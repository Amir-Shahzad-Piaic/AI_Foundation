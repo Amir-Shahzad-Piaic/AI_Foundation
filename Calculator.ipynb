{
  "nbformat": 4,
  "nbformat_minor": 0,
  "metadata": {
    "colab": {
      "provenance": [],
      "authorship_tag": "ABX9TyMZjTcP6+uxfv3a04ZYqn3s",
      "include_colab_link": true
    },
    "kernelspec": {
      "name": "python3",
      "display_name": "Python 3"
    },
    "language_info": {
      "name": "python"
    }
  },
  "cells": [
    {
      "cell_type": "markdown",
      "metadata": {
        "id": "view-in-github",
        "colab_type": "text"
      },
      "source": [
        "<a href=\"https://colab.research.google.com/github/Amir-Shahzad-Piaic/AI_Foundation/blob/main/Calculator.ipynb\" target=\"_parent\"><img src=\"https://colab.research.google.com/assets/colab-badge.svg\" alt=\"Open In Colab\"/></a>"
      ]
    },
    {
      "cell_type": "code",
      "execution_count": 1,
      "metadata": {
        "colab": {
          "base_uri": "https://localhost:8080/"
        },
        "id": "aV4QfE1gpI5I",
        "outputId": "789f93b3-f9e9-40de-980b-8a435b40c4b8"
      },
      "outputs": [
        {
          "output_type": "stream",
          "name": "stdout",
          "text": [
            "\n",
            "Welcome to the Calculator!\n",
            "\n",
            "Select an operation:\n",
            "1. Addition\n",
            "2. Subtraction\n",
            "3. Multiplication\n",
            "4. Division\n",
            "5. Modulus\n",
            "6. Power\n",
            "Enter the number corresponding to the operation (1-6): 4\n",
            "Enter the first number: 20\n",
            "Enter the second number: 5\n",
            "The result is: 4.0\n"
          ]
        }
      ],
      "source": [
        "def add(a, b):\n",
        "    \"\"\"Returns the sum of a and b.\"\"\"\n",
        "    return a + b\n",
        "\n",
        "def subtract(a, b):\n",
        "    \"\"\"Returns the result of subtracting b from a.\"\"\"\n",
        "    return a - b\n",
        "\n",
        "def multiply(a, b):\n",
        "    \"\"\"Returns the product of a and b.\"\"\"\n",
        "    return a * b\n",
        "\n",
        "def divide(a, b):\n",
        "    \"\"\"Returns the result of dividing a by b. Validates division by zero.\"\"\"\n",
        "    if b == 0:\n",
        "        return \"Error: Division by zero is not allowed.\"\n",
        "    return a / b\n",
        "\n",
        "def modulus(a, b):\n",
        "    \"\"\"Returns the remainder of dividing a by b.\"\"\"\n",
        "    if b == 0:\n",
        "        return \"Error: Division by zero is not allowed.\"\n",
        "    return a % b\n",
        "\n",
        "def power(a, b):\n",
        "    \"\"\"Returns a raised to the power of b.\"\"\"\n",
        "    return a ** b\n",
        "\n",
        "def calculator():\n",
        "    \"\"\"Main function to run the calculator.\"\"\"\n",
        "    print(\"\\nWelcome to the Calculator!\\n\")\n",
        "    print(\"Select an operation:\")\n",
        "    print(\"1. Addition\")\n",
        "    print(\"2. Subtraction\")\n",
        "    print(\"3. Multiplication\")\n",
        "    print(\"4. Division\")\n",
        "    print(\"5. Modulus\")\n",
        "    print(\"6. Power\")\n",
        "\n",
        "    try:\n",
        "        choice = int(input(\"Enter the number corresponding to the operation (1-6): \"))\n",
        "        if choice not in range(1, 7):\n",
        "            print(\"Invalid choice. Please select a number between 1 and 6.\")\n",
        "            return\n",
        "\n",
        "        num1 = float(input(\"Enter the first number: \"))\n",
        "        num2 = float(input(\"Enter the second number: \"))\n",
        "\n",
        "        if choice == 1:\n",
        "            result = add(num1, num2)\n",
        "        elif choice == 2:\n",
        "            result = subtract(num1, num2)\n",
        "        elif choice == 3:\n",
        "            result = multiply(num1, num2)\n",
        "        elif choice == 4:\n",
        "            result = divide(num1, num2)\n",
        "        elif choice == 5:\n",
        "            result = modulus(num1, num2)\n",
        "        elif choice == 6:\n",
        "            result = power(num1, num2)\n",
        "\n",
        "        print(f\"The result is: {result}\")\n",
        "\n",
        "    except ValueError:\n",
        "        print(\"Error: Please enter valid numbers.\")\n",
        "\n",
        "if __name__ == \"__main__\":\n",
        "    calculator()\n"
      ]
    }
  ]
}